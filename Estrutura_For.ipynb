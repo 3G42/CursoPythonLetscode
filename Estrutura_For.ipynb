{
  "nbformat": 4,
  "nbformat_minor": 0,
  "metadata": {
    "colab": {
      "name": "Estrutura For.ipynb",
      "provenance": [],
      "authorship_tag": "ABX9TyNW93A089aWTbpCk7LBpqCa",
      "include_colab_link": true
    },
    "kernelspec": {
      "name": "python3",
      "display_name": "Python 3"
    },
    "language_info": {
      "name": "python"
    }
  },
  "cells": [
    {
      "cell_type": "markdown",
      "metadata": {
        "id": "view-in-github",
        "colab_type": "text"
      },
      "source": [
        "<a href=\"https://colab.research.google.com/github/3G42/CursoPythonLetscode/blob/main/Estrutura_For.ipynb\" target=\"_parent\"><img src=\"https://colab.research.google.com/assets/colab-badge.svg\" alt=\"Open In Colab\"/></a>"
      ]
    },
    {
      "cell_type": "markdown",
      "metadata": {
        "id": "L12HNJ2qWgZt"
      },
      "source": [
        "### Estrutura de Repetição - For\n",
        "O for loop é um laço de repetição especializado em iterar sobre objetos, ou seja, navegar por um por um objeto navegavel(tuplas, listas).\n"
      ]
    },
    {
      "cell_type": "code",
      "metadata": {
        "colab": {
          "base_uri": "https://localhost:8080/"
        },
        "id": "88Db2qDqWfcp",
        "outputId": "68e656b8-d425-4d94-e1b5-5c4cee53aeaa"
      },
      "source": [
        "nomes_cidades = ['São Paulo', 'Londres', 'Tóquio', 'Paris']\n",
        "for nome in nomes_cidades:\n",
        "    print(nome)\n"
      ],
      "execution_count": 5,
      "outputs": [
        {
          "output_type": "stream",
          "text": [
            "São Paulo\n",
            "Londres\n",
            "Tóquio\n",
            "Paris\n"
          ],
          "name": "stdout"
        }
      ]
    },
    {
      "cell_type": "code",
      "metadata": {
        "colab": {
          "base_uri": "https://localhost:8080/"
        },
        "id": "DLXmfHenZlQ9",
        "outputId": "f4ef79d8-1c14-4330-953a-67eacc33b79b"
      },
      "source": [
        "contador = 0\n",
        "while contador < len(nomes_cidades):\n",
        "    print(nomes_cidades[contador])\n",
        "    contador = contador + 1"
      ],
      "execution_count": 4,
      "outputs": [
        {
          "output_type": "stream",
          "text": [
            "São Paulo\n",
            "Londres\n",
            "Tóquio\n",
            "Paris\n"
          ],
          "name": "stdout"
        }
      ]
    },
    {
      "cell_type": "code",
      "metadata": {
        "colab": {
          "base_uri": "https://localhost:8080/"
        },
        "id": "nvp5wUZzZq7G",
        "outputId": "29740604-4ae5-43e3-8895-47cbdfd6a709"
      },
      "source": [
        "cidade = {\n",
        "    'nome':'São Paulo',\n",
        "    'estado': 'São Paulo',\n",
        "    'populacao_milhoes':12.2\n",
        "}\n",
        "for key in cidade:\n",
        "    print(f'{key}:{cidade[key]}')"
      ],
      "execution_count": 7,
      "outputs": [
        {
          "output_type": "stream",
          "text": [
            "nome:São Paulo\n",
            "estado:São Paulo\n",
            "populacao_milhoes:12.2\n"
          ],
          "name": "stdout"
        }
      ]
    },
    {
      "cell_type": "code",
      "metadata": {
        "colab": {
          "base_uri": "https://localhost:8080/"
        },
        "id": "xDfbrT9fak3z",
        "outputId": "f4ba7b65-7e7b-4bfa-8cb4-119cda8f208a"
      },
      "source": [
        "nomes_cidades = ['São Paulo','Londres','Toquio','Paris']\n",
        "for nome in nomes_cidades:\n",
        "    nome = 'Rio de Janeiro'\n",
        "print(nomes_cidades)\n",
        "# Observa-se que a lista não é alterada, pois a variável nome é uma cópia dos elementos da lista\n"
      ],
      "execution_count": 9,
      "outputs": [
        {
          "output_type": "stream",
          "text": [
            "Rio de Janeiro\n",
            "Rio de Janeiro\n",
            "Rio de Janeiro\n",
            "Rio de Janeiro\n",
            "['São Paulo', 'Londres', 'Toquio', 'Paris']\n"
          ],
          "name": "stdout"
        }
      ]
    },
    {
      "cell_type": "markdown",
      "metadata": {
        "id": "BYT-MZArcCPJ"
      },
      "source": [
        "Para se alterar a lista, devemos nos referir aos elementos através de sua posição. Para isso usamos a função range, que cria uma lista com os elementos da posição da lista  "
      ]
    },
    {
      "cell_type": "code",
      "metadata": {
        "colab": {
          "base_uri": "https://localhost:8080/"
        },
        "id": "Vj2-o4docBSi",
        "outputId": "373d2a73-52bf-4b1d-8cad-9f0b63b27beb"
      },
      "source": [
        "for posicao in range(len(nomes_cidades)):\n",
        "    print(posicao)"
      ],
      "execution_count": 11,
      "outputs": [
        {
          "output_type": "stream",
          "text": [
            "0\n",
            "1\n",
            "2\n",
            "3\n"
          ],
          "name": "stdout"
        }
      ]
    },
    {
      "cell_type": "code",
      "metadata": {
        "colab": {
          "base_uri": "https://localhost:8080/"
        },
        "id": "2liK_046cp8C",
        "outputId": "a0f919ec-85ba-48da-9de9-a2f89db1be79"
      },
      "source": [
        "for posicao in range(len(nomes_cidades)):\n",
        "    nomes_cidades[posicao] = 'Rio de Janeiro'\n",
        "print(nomes_cidades)"
      ],
      "execution_count": 12,
      "outputs": [
        {
          "output_type": "stream",
          "text": [
            "['Rio de Janeiro', 'Rio de Janeiro', 'Rio de Janeiro', 'Rio de Janeiro']\n"
          ],
          "name": "stdout"
        }
      ]
    },
    {
      "cell_type": "markdown",
      "metadata": {
        "id": "ztVWN5Pcc5kb"
      },
      "source": [
        "**Existem outras utilidades para a função range()**"
      ]
    },
    {
      "cell_type": "code",
      "metadata": {
        "colab": {
          "base_uri": "https://localhost:8080/"
        },
        "id": "RoP8IPYIc3LT",
        "outputId": "a5eb9f33-7772-4816-920f-9ca2fa887ed4"
      },
      "source": [
        "print(list(range(10)))\n",
        "print(\"-----\")\n",
        "print(list(range(2,10)))\n",
        "print(\"-----\")\n",
        "print(list(range(2,10,2)))"
      ],
      "execution_count": 14,
      "outputs": [
        {
          "output_type": "stream",
          "text": [
            "[0, 1, 2, 3, 4, 5, 6, 7, 8, 9]\n",
            "-----\n",
            "[2, 3, 4, 5, 6, 7, 8, 9]\n",
            "-----\n",
            "[2, 4, 6, 8]\n"
          ],
          "name": "stdout"
        }
      ]
    }
  ]
}