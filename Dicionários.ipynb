{
  "nbformat": 4,
  "nbformat_minor": 0,
  "metadata": {
    "colab": {
      "name": "Dicionários.ipynb",
      "provenance": [],
      "authorship_tag": "ABX9TyMU7M5czJDgMtB6SdZd+StZ",
      "include_colab_link": true
    },
    "kernelspec": {
      "name": "python3",
      "display_name": "Python 3"
    },
    "language_info": {
      "name": "python"
    }
  },
  "cells": [
    {
      "cell_type": "markdown",
      "metadata": {
        "id": "view-in-github",
        "colab_type": "text"
      },
      "source": [
        "<a href=\"https://colab.research.google.com/github/3G42/CursoPythonLetscode/blob/main/Dicion%C3%A1rios.ipynb\" target=\"_parent\"><img src=\"https://colab.research.google.com/assets/colab-badge.svg\" alt=\"Open In Colab\"/></a>"
      ]
    },
    {
      "cell_type": "markdown",
      "metadata": {
        "id": "s0KP9wi4Xa-O"
      },
      "source": [
        "### **Dicionários**\n",
        "Coleção associativa desordenada, com estrutura em pares de chave,valor\n",
        "Chaves são como os verbetes dos dicionários(fisicos)\n",
        "\n",
        "\n",
        "\n",
        "\n",
        "\n",
        "\n",
        "\n",
        "\n",
        "\n",
        "\n",
        "\n",
        "\n"
      ]
    },
    {
      "cell_type": "code",
      "metadata": {
        "colab": {
          "base_uri": "https://localhost:8080/"
        },
        "id": "S9ZOdUwlYID9",
        "outputId": "f95a73bb-acb2-4e2b-8925-4faf581ac3b5"
      },
      "source": [
        "dados_cidade = {\n",
        "    'nome' : 'São Paulo',\n",
        "    'estado': 'São Paulo',\n",
        "    'area_km2': 1521,\n",
        "    'populacao_milhoes':12.18,\n",
        "}\n",
        "print(type(dados_cidade))\n",
        "\n",
        "print(dados_cidade)\n",
        "\n",
        "dados_cidade['pais'] = 'Brasil'\n",
        "\n",
        "print(dados_cidade)\n",
        "\n",
        "print(dados_cidade['nome'])\n",
        "\n",
        "dados_cidade['area_km2'] = 1500\n",
        "print('Antes: ',dados_cidade)\n",
        "\n",
        "## Caso seja atribuido a uma variável o valor de um dicionário, e nessa variável \n",
        "## você altere o valor, essa alteração se propagará para o dicionário\n",
        "\n",
        "area = dados_cidade\n",
        "\n",
        "area['area_km2'] = 300\n",
        "\n",
        "print('Depois: ', dados_cidade)\n",
        "\n",
        "### Solução: Usar método .copy\n",
        "dados_cidade['area_km2'] = 1500\n",
        "print('Antes: ', dados_cidade)\n",
        "\n",
        "dados_cidade_2 = dados_cidade.copy()\n",
        "dados_cidade_2['area_km2'] = 300\n",
        "print('Depois: ', dados_cidade)\n"
      ],
      "execution_count": 12,
      "outputs": [
        {
          "output_type": "stream",
          "text": [
            "<class 'dict'>\n",
            "{'nome': 'São Paulo', 'estado': 'São Paulo', 'area_km2': 1521, 'populacao_milhoes': 12.18}\n",
            "{'nome': 'São Paulo', 'estado': 'São Paulo', 'area_km2': 1521, 'populacao_milhoes': 12.18, 'pais': 'Brasil'}\n",
            "São Paulo\n",
            "Antes:  {'nome': 'São Paulo', 'estado': 'São Paulo', 'area_km2': 1500, 'populacao_milhoes': 12.18, 'pais': 'Brasil'}\n",
            "Depois:  {'nome': 'São Paulo', 'estado': 'São Paulo', 'area_km2': 300, 'populacao_milhoes': 12.18, 'pais': 'Brasil'}\n",
            "Antes:  {'nome': 'São Paulo', 'estado': 'São Paulo', 'area_km2': 1500, 'populacao_milhoes': 12.18, 'pais': 'Brasil'}\n",
            "Depois:  {'nome': 'São Paulo', 'estado': 'São Paulo', 'area_km2': 1500, 'populacao_milhoes': 12.18, 'pais': 'Brasil'}\n"
          ],
          "name": "stdout"
        }
      ]
    },
    {
      "cell_type": "code",
      "metadata": {
        "colab": {
          "base_uri": "https://localhost:8080/"
        },
        "id": "WghDxo_FAQOo",
        "outputId": "ffde6bf1-600a-4211-ec41-d52bf8f3c897"
      },
      "source": [
        "novos_dados = {\n",
        "    'populacao_milhoes': 15,\n",
        "    'fundacao': '25/01/1554'\n",
        "}\n",
        "\n",
        "dados_cidade.update(novos_dados)\n",
        "print(dados_cidade)\n",
        "\n"
      ],
      "execution_count": 17,
      "outputs": [
        {
          "output_type": "stream",
          "text": [
            "{'nome': 'São Paulo', 'estado': 'São Paulo', 'area_km2': 1500, 'populacao_milhoes': 15, 'pais': 'Brasil', 'fundacao': '25/01/1554'}\n",
            "None\n"
          ],
          "name": "stdout"
        }
      ]
    },
    {
      "cell_type": "code",
      "metadata": {
        "colab": {
          "base_uri": "https://localhost:8080/"
        },
        "id": "TY_AAXgx-Img",
        "outputId": "8730bf42-a9e8-49b6-b526-409926b39a0b"
      },
      "source": [
        "## Se for utilzado uma chave inexistente para consulta no dicionário, o python\n",
        "## retornará um erro\n",
        "#Ex:\n",
        "###         dados_cidade['prefeito']\n",
        "\n",
        "## Solução: Utilizar o método get para realizar a consulta\n",
        "print(dados_cidade.get('prefeito')) ## --> Retorna None, pois não existe chave 'prefeito' no dicionário\n",
        "\n"
      ],
      "execution_count": 18,
      "outputs": [
        {
          "output_type": "stream",
          "text": [
            "None\n"
          ],
          "name": "stdout"
        }
      ]
    },
    {
      "cell_type": "code",
      "metadata": {
        "colab": {
          "base_uri": "https://localhost:8080/"
        },
        "id": "w_kH19wGRdox",
        "outputId": "6c2a35b9-7666-4e34-ebe6-9c744a3ff4a6"
      },
      "source": [
        "print(dados_cidade.keys()) # retorna uma lista de chaves\n",
        "print('-----------')\n",
        "print(dados_cidade.values()) # Retorna uma lista de valores\n",
        "print('-----------')\n",
        "print(dados_cidade.items()) # Retorna uma lista de tuplas(chave,valor)"
      ],
      "execution_count": 21,
      "outputs": [
        {
          "output_type": "stream",
          "text": [
            "dict_keys(['nome', 'estado', 'area_km2', 'populacao_milhoes', 'pais', 'fundacao'])\n",
            "-----------\n",
            "dict_values(['São Paulo', 'São Paulo', 1500, 15, 'Brasil', '25/01/1554'])\n",
            "-----------\n",
            "dict_items([('nome', 'São Paulo'), ('estado', 'São Paulo'), ('area_km2', 1500), ('populacao_milhoes', 15), ('pais', 'Brasil'), ('fundacao', '25/01/1554')])\n"
          ],
          "name": "stdout"
        }
      ]
    },
    {
      "cell_type": "code",
      "metadata": {
        "id": "tJ5SWk1kRPZ_"
      },
      "source": [
        ""
      ],
      "execution_count": null,
      "outputs": []
    }
  ]
}