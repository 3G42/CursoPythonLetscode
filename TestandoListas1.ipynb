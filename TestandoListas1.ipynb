{
  "nbformat": 4,
  "nbformat_minor": 0,
  "metadata": {
    "colab": {
      "name": "TestandoListas1.ipynb",
      "provenance": [],
      "collapsed_sections": [],
      "authorship_tag": "ABX9TyPZbMnRrK9M7oLoW4gu3Mt6",
      "include_colab_link": true
    },
    "kernelspec": {
      "name": "python3",
      "display_name": "Python 3"
    },
    "language_info": {
      "name": "python"
    }
  },
  "cells": [
    {
      "cell_type": "markdown",
      "metadata": {
        "id": "view-in-github",
        "colab_type": "text"
      },
      "source": [
        "<a href=\"https://colab.research.google.com/github/3G42/CursoPythonLetscode/blob/main/TestandoListas1.ipynb\" target=\"_parent\"><img src=\"https://colab.research.google.com/assets/colab-badge.svg\" alt=\"Open In Colab\"/></a>"
      ]
    },
    {
      "cell_type": "code",
      "metadata": {
        "colab": {
          "base_uri": "https://localhost:8080/"
        },
        "id": "QHSYMC-qafYn",
        "outputId": "626d3ad4-a1c4-48b9-ce02-17fd9082c91b"
      },
      "source": [
        "\n"
      ],
      "execution_count": 33,
      "outputs": [
        {
          "output_type": "stream",
          "text": [
            "True\n"
          ],
          "name": "stdout"
        }
      ]
    },
    {
      "cell_type": "code",
      "metadata": {
        "colab": {
          "base_uri": "https://localhost:8080/"
        },
        "id": "VzfkV__5bvgh",
        "outputId": "f03c4c7d-0582-48da-e940-e7b7cbffb687"
      },
      "source": [
        "animais = []\n",
        "resposta = 's'\n",
        "\n",
        "while resposta == 's' or resposta == 'S':\n",
        "    flag1 = False\n",
        "    flag2 = False\n",
        "    resposta = input('Deseja adicionar um animal à lista (s/n)?')\n",
        "    if (resposta == 's' or resposta == 'S'):\n",
        "        while flag1 == False or flag2 == False:                       ## OBSERVAÇÃO TESTE PARA VERIFICAÇÃO DE TIPO STRING, SERÁ FEITO APENAS PARA INT E BOOL(V1.0)\n",
        "            animal = input('Digite o nome do animal: \\n')\n",
        "            try:\n",
        "                int_anim = int(animal)\n",
        "                print('Nome Errado')\n",
        "            except ValueError:\n",
        "                flag1 = True\n",
        "            flag2 = not(animal == 'True' or animal == 'False')            \n",
        "        animais.append(animal) # adiciona o novo animal à lista\n",
        "    elif (resposta != 'n' and resposta != 'N' and  resposta != 's' and resposta != 'S'):\n",
        "        print(\"Você informou um caracter invalido\\n\")\n",
        "        resposta = 's'\n",
        "print(animais)\n",
        "\n",
        "animais.sort()\n",
        "\n",
        "print(animais)\n",
        "\n",
        "\n",
        "\n",
        "        \n",
        "\n",
        "\n",
        "\n",
        "#\n",
        "#var = False\n",
        "#cont = 0\n",
        "\n",
        "\n",
        "#while var == False:\n",
        "#  try:\n",
        "#    print(cont,' ', animais)\n",
        "#    animais.remove(1)\n",
        "#    cont = cont + 1\n",
        "#  except ValueError:\n",
        "#    print(cont,' ', animais,'\\n')\n",
        "#    print(\"Não existem mais valores de numero '1' \")\n",
        "#    var = True\n",
        "#print(animais)\n",
        "\n",
        "\n"
      ],
      "execution_count": 38,
      "outputs": [
        {
          "output_type": "stream",
          "text": [
            "Deseja adicionar um animal à lista (s/n)?ca\n",
            "Você informou um caracter invalido\n",
            "\n",
            "Deseja adicionar um animal à lista (s/n)?s\n",
            "Digite o nome do animal: \n",
            "cao\n",
            "Deseja adicionar um animal à lista (s/n)?s\n",
            "Digite o nome do animal: \n",
            "baleia\n",
            "Deseja adicionar um animal à lista (s/n)?s\n",
            "Digite o nome do animal: \n",
            "dragao\n",
            "Deseja adicionar um animal à lista (s/n)?cao\n",
            "Você informou um caracter invalido\n",
            "\n",
            "Deseja adicionar um animal à lista (s/n)?s\n",
            "Digite o nome do animal: \n",
            "cao\n",
            "Deseja adicionar um animal à lista (s/n)?zebra\n",
            "Você informou um caracter invalido\n",
            "\n",
            "Deseja adicionar um animal à lista (s/n)?s\n",
            "Digite o nome do animal: \n",
            "zebra\n",
            "Deseja adicionar um animal à lista (s/n)?s\n",
            "Digite o nome do animal: \n",
            "koala\n",
            "Deseja adicionar um animal à lista (s/n)?n\n",
            "['cao', 'baleia', 'dragao', 'cao', 'zebra', 'koala']\n",
            "['baleia', 'cao', 'cao', 'dragao', 'koala', 'zebra']\n"
          ],
          "name": "stdout"
        }
      ]
    }
  ]
}